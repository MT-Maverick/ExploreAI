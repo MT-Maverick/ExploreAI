{
 "cells": [
  {
   "cell_type": "code",
   "execution_count": 11,
   "metadata": {},
   "outputs": [
    {
     "data": {
      "text/plain": [
       "<bound method DataFrame.std of     Price Dates  Bhindi (Ladies finger)  Tomato  Onion  Potato  Brinjal  \\\n",
       "0    01-01-2023                    35.0      18   22.0      20       30   \n",
       "1    02-01-2023                    35.0      16   22.0      20       30   \n",
       "2    03-01-2023                    35.0      16   21.0      20       30   \n",
       "3    04-01-2023                    30.0      16   21.0      22       25   \n",
       "4    08-01-2023                    35.0      16   20.0      21       25   \n",
       "..          ...                     ...     ...    ...     ...      ...   \n",
       "282  27-12-2023                    45.0      16   30.0      20       70   \n",
       "283  28-12-2023                    45.0      16   30.0      20       70   \n",
       "284  29-12-2023                    45.0      16   30.0      22       80   \n",
       "285  31-12-2023                    45.0      16   26.0      20       60   \n",
       "286  01-01-2024                    45.0      16    9.0      18       50   \n",
       "\n",
       "     Garlic  Peas  Methi  Green Chilli  Elephant Yam (Suran)  \n",
       "0        50    25      8          45.0                    25  \n",
       "1        55    25      7          40.0                    25  \n",
       "2        55    25      7          40.0                    25  \n",
       "3        55    25      7          40.0                    25  \n",
       "4        55    22      6          35.0                    25  \n",
       "..      ...   ...    ...           ...                   ...  \n",
       "282     260    40     16          40.0                    25  \n",
       "283     260    30     20          45.0                    25  \n",
       "284     260    30     18          50.0                    25  \n",
       "285     250    40     16          50.0                    40  \n",
       "286     260    40     15          60.0                    25  \n",
       "\n",
       "[287 rows x 11 columns]>"
      ]
     },
     "execution_count": 11,
     "metadata": {},
     "output_type": "execute_result"
    }
   ],
   "source": [
    "import pandas as pd\n",
    "import matplotlib.pyplot as pyplot\n",
    "import seaborn as sb\n",
    "\n",
    "data = pd.read_csv('./dataset/prices.csv')\n",
    "\n",
    "data.std"
   ]
  }
 ],
 "metadata": {
  "kernelspec": {
   "display_name": "vegetable_prices",
   "language": "python",
   "name": "python3"
  },
  "language_info": {
   "codemirror_mode": {
    "name": "ipython",
    "version": 3
   },
   "file_extension": ".py",
   "mimetype": "text/x-python",
   "name": "python",
   "nbconvert_exporter": "python",
   "pygments_lexer": "ipython3",
   "version": "3.12.3"
  }
 },
 "nbformat": 4,
 "nbformat_minor": 2
}
